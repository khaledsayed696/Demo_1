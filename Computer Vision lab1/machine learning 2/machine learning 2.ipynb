{
 "cells": [
  {
   "cell_type": "code",
   "execution_count": 102,
   "id": "3207556c",
   "metadata": {},
   "outputs": [],
   "source": [
    "\n"
   ]
  },
  {
   "cell_type": "code",
   "execution_count": null,
   "id": "56f32ce9",
   "metadata": {},
   "outputs": [],
   "source": [
    "...........................................lab..........................................."
   ]
  },
  {
   "cell_type": "code",
   "execution_count": 50,
   "id": "38f0d88a",
   "metadata": {},
   "outputs": [],
   "source": [
    "import tensorflow as tf\n"
   ]
  },
  {
   "cell_type": "code",
   "execution_count": 51,
   "id": "9cd641e0",
   "metadata": {},
   "outputs": [
    {
     "data": {
      "text/plain": [
       "'2.4.1'"
      ]
     },
     "execution_count": 51,
     "metadata": {},
     "output_type": "execute_result"
    }
   ],
   "source": [
    "tf.__version__"
   ]
  },
  {
   "cell_type": "code",
   "execution_count": 52,
   "id": "dd66cfa7",
   "metadata": {},
   "outputs": [
    {
     "name": "stdout",
     "output_type": "stream",
     "text": [
      "Requirement already satisfied: tensorflow-datasets in /home/ubuntu/anaconda3/lib/python3.8/site-packages (4.3.0)\n",
      "Requirement already satisfied: future in /home/ubuntu/anaconda3/lib/python3.8/site-packages (from tensorflow-datasets) (0.18.2)\n",
      "Requirement already satisfied: protobuf>=3.12.2 in /home/ubuntu/anaconda3/lib/python3.8/site-packages (from tensorflow-datasets) (3.14.0)\n",
      "Requirement already satisfied: dill in /home/ubuntu/anaconda3/lib/python3.8/site-packages (from tensorflow-datasets) (0.3.4)\n",
      "Requirement already satisfied: termcolor in /home/ubuntu/anaconda3/lib/python3.8/site-packages (from tensorflow-datasets) (1.1.0)\n",
      "Requirement already satisfied: numpy in /home/ubuntu/anaconda3/lib/python3.8/site-packages (from tensorflow-datasets) (1.19.2)\n",
      "Requirement already satisfied: tensorflow-metadata in /home/ubuntu/anaconda3/lib/python3.8/site-packages (from tensorflow-datasets) (1.0.0)\n",
      "Requirement already satisfied: attrs>=18.1.0 in /home/ubuntu/anaconda3/lib/python3.8/site-packages (from tensorflow-datasets) (20.3.0)\n",
      "Requirement already satisfied: importlib-resources in /home/ubuntu/anaconda3/lib/python3.8/site-packages (from tensorflow-datasets) (5.1.4)\n",
      "Requirement already satisfied: absl-py in /home/ubuntu/anaconda3/lib/python3.8/site-packages (from tensorflow-datasets) (0.12.0)\n",
      "Requirement already satisfied: promise in /home/ubuntu/anaconda3/lib/python3.8/site-packages (from tensorflow-datasets) (2.3)\n",
      "Requirement already satisfied: six in /home/ubuntu/anaconda3/lib/python3.8/site-packages (from tensorflow-datasets) (1.15.0)\n",
      "Requirement already satisfied: requests>=2.19.0 in /home/ubuntu/anaconda3/lib/python3.8/site-packages (from tensorflow-datasets) (2.25.1)\n",
      "Requirement already satisfied: tqdm in /home/ubuntu/anaconda3/lib/python3.8/site-packages (from tensorflow-datasets) (4.59.0)\n",
      "Requirement already satisfied: idna<3,>=2.5 in /home/ubuntu/anaconda3/lib/python3.8/site-packages (from requests>=2.19.0->tensorflow-datasets) (2.10)\n",
      "Requirement already satisfied: certifi>=2017.4.17 in /home/ubuntu/anaconda3/lib/python3.8/site-packages (from requests>=2.19.0->tensorflow-datasets) (2020.12.5)\n",
      "Requirement already satisfied: urllib3<1.27,>=1.21.1 in /home/ubuntu/anaconda3/lib/python3.8/site-packages (from requests>=2.19.0->tensorflow-datasets) (1.26.4)\n",
      "Requirement already satisfied: chardet<5,>=3.0.2 in /home/ubuntu/anaconda3/lib/python3.8/site-packages (from requests>=2.19.0->tensorflow-datasets) (3.0.4)\n",
      "Requirement already satisfied: zipp>=3.1.0 in /home/ubuntu/anaconda3/lib/python3.8/site-packages (from importlib-resources->tensorflow-datasets) (3.4.1)\n",
      "Requirement already satisfied: googleapis-common-protos<2,>=1.52.0 in /home/ubuntu/anaconda3/lib/python3.8/site-packages (from tensorflow-metadata->tensorflow-datasets) (1.53.0)\n"
     ]
    }
   ],
   "source": [
    "!pip install tensorflow-datasets"
   ]
  },
  {
   "cell_type": "code",
   "execution_count": 45,
   "id": "d5232569",
   "metadata": {},
   "outputs": [],
   "source": [
    "%matplotlib inline\n",
    "import tensorflow_datasets as tfds\n",
    "import tensorflow as tf\n",
    "import numpy\n",
    "import matplotlib.pyplot as plt \n",
    "import math\n",
    "from sklearn.metrics import confusion_matrix\n",
    "import itertools\n",
    "import numpy as np\n",
    "\n",
    "\n"
   ]
  },
  {
   "cell_type": "code",
   "execution_count": 2,
   "id": "9a553b6c",
   "metadata": {},
   "outputs": [],
   "source": [
    "ds , md = tfds.load('fashion_mnist',as_supervised=True ,with_info=True)"
   ]
  },
  {
   "cell_type": "code",
   "execution_count": null,
   "id": "454b10ba",
   "metadata": {},
   "outputs": [],
   "source": []
  },
  {
   "cell_type": "code",
   "execution_count": 3,
   "id": "114e6f43",
   "metadata": {},
   "outputs": [
    {
     "data": {
      "text/plain": [
       "dict"
      ]
     },
     "execution_count": 3,
     "metadata": {},
     "output_type": "execute_result"
    }
   ],
   "source": [
    "type(ds)"
   ]
  },
  {
   "cell_type": "code",
   "execution_count": null,
   "id": "b0e93789",
   "metadata": {},
   "outputs": [],
   "source": []
  },
  {
   "cell_type": "code",
   "execution_count": 4,
   "id": "dc7616bd",
   "metadata": {},
   "outputs": [
    {
     "data": {
      "text/plain": [
       "dict_keys(['train', 'test'])"
      ]
     },
     "execution_count": 4,
     "metadata": {},
     "output_type": "execute_result"
    }
   ],
   "source": [
    "ds.keys()"
   ]
  },
  {
   "cell_type": "code",
   "execution_count": 5,
   "id": "ec544977",
   "metadata": {},
   "outputs": [],
   "source": [
    "train_ds , test_ds = ds['train'] , ds['test']"
   ]
  },
  {
   "cell_type": "code",
   "execution_count": 6,
   "id": "d79b9dfa",
   "metadata": {},
   "outputs": [
    {
     "data": {
      "text/plain": [
       "tensorflow_datasets.core.splits.SplitDict"
      ]
     },
     "execution_count": 6,
     "metadata": {},
     "output_type": "execute_result"
    }
   ],
   "source": [
    "type(md.splits)"
   ]
  },
  {
   "cell_type": "code",
   "execution_count": 7,
   "id": "06d98ec0",
   "metadata": {},
   "outputs": [],
   "source": [
    "def normalize(images, labels):\n",
    "  images = tf.cast(images, tf.float32)\n",
    "  images /= 255\n",
    "  return images, labels\n",
    "\n",
    "train_ds =  train_ds.map(normalize)\n",
    "test_ds  =  test_ds.map(normalize)\n",
    "\n",
    "#train_dataset =  train_dataset.cache()\n",
    "#test_dataset  =  test_dataset.cache()"
   ]
  },
  {
   "cell_type": "code",
   "execution_count": 8,
   "id": "fc8ad3ef",
   "metadata": {},
   "outputs": [
    {
     "data": {
      "text/plain": [
       "10000"
      ]
     },
     "execution_count": 8,
     "metadata": {},
     "output_type": "execute_result"
    }
   ],
   "source": [
    "md.splits['test'].num_examples"
   ]
  },
  {
   "cell_type": "code",
   "execution_count": 9,
   "id": "aa992faf",
   "metadata": {},
   "outputs": [
    {
     "data": {
      "text/plain": [
       "60000"
      ]
     },
     "execution_count": 9,
     "metadata": {},
     "output_type": "execute_result"
    }
   ],
   "source": [
    "md.splits['train'].num_examples"
   ]
  },
  {
   "cell_type": "code",
   "execution_count": 10,
   "id": "0febc889",
   "metadata": {},
   "outputs": [],
   "source": [
    "for img , lbl in train_ds.take(1):\n",
    "    break"
   ]
  },
  {
   "cell_type": "code",
   "execution_count": 11,
   "id": "2b5aee78",
   "metadata": {},
   "outputs": [],
   "source": [
    "img =img.numpy()\n",
    "img;"
   ]
  },
  {
   "cell_type": "code",
   "execution_count": 12,
   "id": "8190ec69",
   "metadata": {},
   "outputs": [],
   "source": [
    "img= img.reshape((28 , 28))"
   ]
  },
  {
   "cell_type": "code",
   "execution_count": 13,
   "id": "ccf8d0d8",
   "metadata": {},
   "outputs": [
    {
     "data": {
      "image/png": "[encoded data removed]",
      "text/plain": [
       "<Figure size 432x288 with 1 Axes>"
      ]
     },
     "metadata": {
      "needs_background": "light"
     },
     "output_type": "display_data"
    }
   ],
   "source": [
    "img\n",
    "plt.imshow(img , cmap='gray');"
   ]
  },
  {
   "cell_type": "code",
   "execution_count": null,
   "id": "dd8485f5",
   "metadata": {},
   "outputs": [],
   "source": []
  },
  {
   "cell_type": "code",
   "execution_count": 14,
   "id": "a6fdbd73",
   "metadata": {},
   "outputs": [
    {
     "data": {
      "text/plain": [
       "tensorflow.python.data.ops.dataset_ops.MapDataset"
      ]
     },
     "execution_count": 14,
     "metadata": {},
     "output_type": "execute_result"
    }
   ],
   "source": [
    "type(test_ds)"
   ]
  },
  {
   "cell_type": "code",
   "execution_count": 15,
   "id": "fb3ba12a",
   "metadata": {},
   "outputs": [
    {
     "data": {
      "image/png": "[encoded data removed]",
      "text/plain": [
       "<Figure size 720x720 with 25 Axes>"
      ]
     },
     "metadata": {},
     "output_type": "display_data"
    }
   ],
   "source": [
    "plt.figure(figsize=(10,10))\n",
    "i = 0\n",
    "for (image, label) in test_ds.take(25):\n",
    "    image = image.numpy().reshape((28,28))\n",
    "    plt.subplot(5,5,i+1)\n",
    "    plt.xticks([])\n",
    "    plt.yticks([])\n",
    "    plt.grid(False)\n",
    "    plt.imshow(image, cmap='gray')\n",
    "    #plt.xlabel(class_names[label])\n",
    "    i += 1\n",
    "plt.show()"
   ]
  },
  {
   "cell_type": "code",
   "execution_count": 16,
   "id": "f6cd9732",
   "metadata": {},
   "outputs": [],
   "source": [
    "#creat MOdel"
   ]
  },
  {
   "cell_type": "code",
   "execution_count": 17,
   "id": "cd25e5d4",
   "metadata": {},
   "outputs": [],
   "source": [
    "model = tf.keras.Sequential(\n",
    "    [\n",
    "    tf.keras.layers.Flatten(input_shape=(28 , 28 , 1)),   # make flaten\n",
    "    tf.keras.layers.Dense(128,activation='sigmoid'),\n",
    "    tf.keras.layers.Dense(10)\n",
    "\n",
    "    ]\n",
    ")\n"
   ]
  },
  {
   "cell_type": "code",
   "execution_count": 18,
   "id": "881dad93",
   "metadata": {},
   "outputs": [],
   "source": [
    "model.compile(\n",
    "        optimizer='adam',\n",
    "        loss=tf.keras.losses.SparseCategoricalCrossentropy(from_logits = True),\n",
    "        metrics=['accuracy']\n",
    "    )"
   ]
  },
  {
   "cell_type": "code",
   "execution_count": 19,
   "id": "21f28c5d",
   "metadata": {},
   "outputs": [
    {
     "name": "stdout",
     "output_type": "stream",
     "text": [
      "Model: \"sequential\"\n",
      "_________________________________________________________________\n",
      "Layer (type)                 Output Shape              Param #   \n",
      "=================================================================\n",
      "flatten (Flatten)            (None, 784)               0         \n",
      "_________________________________________________________________\n",
      "dense (Dense)                (None, 128)               100480    \n",
      "_________________________________________________________________\n",
      "dense_1 (Dense)              (None, 10)                1290      \n",
      "=================================================================\n",
      "Total params: 101,770\n",
      "Trainable params: 101,770\n",
      "Non-trainable params: 0\n",
      "_________________________________________________________________\n"
     ]
    }
   ],
   "source": [
    "model.summary()"
   ]
  },
  {
   "cell_type": "code",
   "execution_count": 20,
   "id": "2049d25f",
   "metadata": {},
   "outputs": [],
   "source": [
    "bs =50 # pach size  subdivide data to 32 bits then 32 bit  etcetra\n",
    "train_ds = train_ds.cache().repeat().shuffle(60000).batch(bs)\n",
    "test_ds=test_ds.cache().batch(bs)"
   ]
  },
  {
   "cell_type": "code",
   "execution_count": 21,
   "id": "d65ad23f",
   "metadata": {},
   "outputs": [
    {
     "name": "stdout",
     "output_type": "stream",
     "text": [
      "<BatchDataset shapes: ((None, 28, 28, 1), (None,)), types: (tf.float32, tf.int64)>\n"
     ]
    }
   ],
   "source": [
    "print(train_ds)"
   ]
  },
  {
   "cell_type": "code",
   "execution_count": 22,
   "id": "fe6c9d64",
   "metadata": {},
   "outputs": [
    {
     "name": "stdout",
     "output_type": "stream",
     "text": [
      "Epoch 1/200\n",
      "1200/1200 [==============================] - 10s 4ms/step - loss: 0.7911 - accuracy: 0.7457\n",
      "Epoch 2/200\n",
      "1200/1200 [==============================] - 5s 4ms/step - loss: 0.4131 - accuracy: 0.8544\n",
      "Epoch 3/200\n",
      "1200/1200 [==============================] - 5s 4ms/step - loss: 0.3794 - accuracy: 0.8635\n",
      "Epoch 4/200\n",
      "1200/1200 [==============================] - 5s 4ms/step - loss: 0.3481 - accuracy: 0.8744\n",
      "Epoch 5/200\n",
      "1200/1200 [==============================] - 5s 4ms/step - loss: 0.3246 - accuracy: 0.8818\n",
      "Epoch 6/200\n",
      "1200/1200 [==============================] - 5s 4ms/step - loss: 0.3072 - accuracy: 0.8873\n",
      "Epoch 7/200\n",
      "1200/1200 [==============================] - 6s 5ms/step - loss: 0.2971 - accuracy: 0.8916\n",
      "Epoch 8/200\n",
      "1200/1200 [==============================] - 5s 4ms/step - loss: 0.2785 - accuracy: 0.8981\n",
      "Epoch 9/200\n",
      "1200/1200 [==============================] - 5s 4ms/step - loss: 0.2766 - accuracy: 0.8970\n",
      "Epoch 10/200\n",
      "1200/1200 [==============================] - 5s 5ms/step - loss: 0.2569 - accuracy: 0.9066\n",
      "Epoch 11/200\n",
      "1200/1200 [==============================] - 5s 5ms/step - loss: 0.2538 - accuracy: 0.9076\n",
      "Epoch 12/200\n",
      "1200/1200 [==============================] - 5s 4ms/step - loss: 0.2519 - accuracy: 0.9089\n",
      "Epoch 13/200\n",
      "1200/1200 [==============================] - 5s 4ms/step - loss: 0.2494 - accuracy: 0.9075\n",
      "Epoch 14/200\n",
      "1200/1200 [==============================] - 5s 5ms/step - loss: 0.2355 - accuracy: 0.9136\n",
      "Epoch 15/200\n",
      "1200/1200 [==============================] - 6s 5ms/step - loss: 0.2281 - accuracy: 0.9158\n",
      "Epoch 16/200\n",
      "1200/1200 [==============================] - 5s 5ms/step - loss: 0.2256 - accuracy: 0.9171\n",
      "Epoch 17/200\n",
      "1200/1200 [==============================] - 5s 5ms/step - loss: 0.2180 - accuracy: 0.9207\n",
      "Epoch 18/200\n",
      "1200/1200 [==============================] - 5s 4ms/step - loss: 0.2127 - accuracy: 0.9213\n",
      "Epoch 19/200\n",
      "1200/1200 [==============================] - 6s 5ms/step - loss: 0.2002 - accuracy: 0.9261\n",
      "Epoch 20/200\n",
      "1200/1200 [==============================] - 6s 5ms/step - loss: 0.2054 - accuracy: 0.9244\n",
      "Epoch 21/200\n",
      "1200/1200 [==============================] - 6s 5ms/step - loss: 0.1890 - accuracy: 0.9313\n",
      "Epoch 22/200\n",
      "1200/1200 [==============================] - 6s 5ms/step - loss: 0.1869 - accuracy: 0.9317\n",
      "Epoch 23/200\n",
      "1200/1200 [==============================] - 6s 5ms/step - loss: 0.1878 - accuracy: 0.9308\n",
      "Epoch 24/200\n",
      "1200/1200 [==============================] - 6s 5ms/step - loss: 0.1816 - accuracy: 0.9332\n",
      "Epoch 25/200\n",
      "1200/1200 [==============================] - 6s 5ms/step - loss: 0.1730 - accuracy: 0.9371\n",
      "Epoch 26/200\n",
      "1200/1200 [==============================] - 6s 5ms/step - loss: 0.1686 - accuracy: 0.9399\n",
      "Epoch 27/200\n",
      "1200/1200 [==============================] - 6s 5ms/step - loss: 0.1651 - accuracy: 0.9400\n",
      "Epoch 28/200\n",
      "1200/1200 [==============================] - 6s 5ms/step - loss: 0.1589 - accuracy: 0.9425\n",
      "Epoch 29/200\n",
      "1200/1200 [==============================] - 5s 4ms/step - loss: 0.1609 - accuracy: 0.9414\n",
      "Epoch 30/200\n",
      "1200/1200 [==============================] - 6s 5ms/step - loss: 0.1526 - accuracy: 0.9454\n",
      "Epoch 31/200\n",
      "1200/1200 [==============================] - 6s 5ms/step - loss: 0.1512 - accuracy: 0.9464\n",
      "Epoch 32/200\n",
      "1200/1200 [==============================] - 5s 5ms/step - loss: 0.1443 - accuracy: 0.9479\n",
      "Epoch 33/200\n",
      "1200/1200 [==============================] - 6s 5ms/step - loss: 0.1451 - accuracy: 0.9479\n",
      "Epoch 34/200\n",
      "1200/1200 [==============================] - 6s 5ms/step - loss: 0.1459 - accuracy: 0.9472\n",
      "Epoch 35/200\n",
      "1200/1200 [==============================] - 6s 5ms/step - loss: 0.1411 - accuracy: 0.9500\n",
      "Epoch 36/200\n",
      "1200/1200 [==============================] - 6s 5ms/step - loss: 0.1342 - accuracy: 0.9525\n",
      "Epoch 37/200\n",
      "1200/1200 [==============================] - 6s 5ms/step - loss: 0.1283 - accuracy: 0.9545\n",
      "Epoch 38/200\n",
      "1200/1200 [==============================] - 6s 5ms/step - loss: 0.1308 - accuracy: 0.9528\n",
      "Epoch 39/200\n",
      "1200/1200 [==============================] - 6s 5ms/step - loss: 0.1246 - accuracy: 0.9549\n",
      "Epoch 40/200\n",
      "1200/1200 [==============================] - 6s 5ms/step - loss: 0.1241 - accuracy: 0.9553\n",
      "Epoch 41/200\n",
      "1200/1200 [==============================] - 6s 5ms/step - loss: 0.1238 - accuracy: 0.9561\n",
      "Epoch 42/200\n",
      "1200/1200 [==============================] - 6s 5ms/step - loss: 0.1132 - accuracy: 0.9605\n",
      "Epoch 43/200\n",
      "1200/1200 [==============================] - 6s 5ms/step - loss: 0.1166 - accuracy: 0.9579\n",
      "Epoch 44/200\n",
      "1200/1200 [==============================] - 6s 5ms/step - loss: 0.1121 - accuracy: 0.9599\n",
      "Epoch 45/200\n",
      "1200/1200 [==============================] - 6s 5ms/step - loss: 0.1058 - accuracy: 0.9621\n",
      "Epoch 46/200\n",
      "1200/1200 [==============================] - 6s 5ms/step - loss: 0.1103 - accuracy: 0.9608\n",
      "Epoch 47/200\n",
      "1200/1200 [==============================] - 6s 5ms/step - loss: 0.1057 - accuracy: 0.9631\n",
      "Epoch 48/200\n",
      "1200/1200 [==============================] - 6s 5ms/step - loss: 0.1001 - accuracy: 0.9653\n",
      "Epoch 49/200\n",
      "1200/1200 [==============================] - 6s 5ms/step - loss: 0.1008 - accuracy: 0.9653\n",
      "Epoch 50/200\n",
      "1200/1200 [==============================] - 6s 5ms/step - loss: 0.1000 - accuracy: 0.9665\n",
      "Epoch 51/200\n",
      "1200/1200 [==============================] - 6s 5ms/step - loss: 0.0946 - accuracy: 0.9674\n",
      "Epoch 52/200\n",
      "1200/1200 [==============================] - 6s 5ms/step - loss: 0.0909 - accuracy: 0.9675\n",
      "Epoch 53/200\n",
      "1200/1200 [==============================] - 6s 5ms/step - loss: 0.0906 - accuracy: 0.9688\n",
      "Epoch 54/200\n",
      "1200/1200 [==============================] - 6s 5ms/step - loss: 0.0879 - accuracy: 0.9694\n",
      "Epoch 55/200\n",
      "1200/1200 [==============================] - 6s 5ms/step - loss: 0.0878 - accuracy: 0.9696\n",
      "Epoch 56/200\n",
      "1200/1200 [==============================] - 6s 5ms/step - loss: 0.0839 - accuracy: 0.9710\n",
      "Epoch 57/200\n",
      "1200/1200 [==============================] - 6s 5ms/step - loss: 0.0843 - accuracy: 0.9704\n",
      "Epoch 58/200\n",
      "1200/1200 [==============================] - 6s 5ms/step - loss: 0.0793 - accuracy: 0.9739\n",
      "Epoch 59/200\n",
      "1200/1200 [==============================] - 6s 5ms/step - loss: 0.0824 - accuracy: 0.9722\n",
      "Epoch 60/200\n",
      "1200/1200 [==============================] - 6s 5ms/step - loss: 0.0749 - accuracy: 0.9746\n",
      "Epoch 61/200\n",
      "1200/1200 [==============================] - 6s 5ms/step - loss: 0.0755 - accuracy: 0.9742\n",
      "Epoch 62/200\n",
      "1200/1200 [==============================] - 6s 5ms/step - loss: 0.0718 - accuracy: 0.9765\n",
      "Epoch 63/200\n",
      "1200/1200 [==============================] - 6s 5ms/step - loss: 0.0710 - accuracy: 0.9768\n",
      "Epoch 64/200\n",
      "1200/1200 [==============================] - 6s 5ms/step - loss: 0.0713 - accuracy: 0.9770\n",
      "Epoch 65/200\n",
      "1200/1200 [==============================] - 6s 5ms/step - loss: 0.0679 - accuracy: 0.9763\n",
      "Epoch 66/200\n",
      "1200/1200 [==============================] - 6s 5ms/step - loss: 0.0669 - accuracy: 0.9777\n",
      "Epoch 67/200\n",
      "1200/1200 [==============================] - 6s 5ms/step - loss: 0.0647 - accuracy: 0.9790\n",
      "Epoch 68/200\n",
      "1200/1200 [==============================] - 6s 5ms/step - loss: 0.0688 - accuracy: 0.9768\n",
      "Epoch 69/200\n",
      "1200/1200 [==============================] - 6s 5ms/step - loss: 0.0612 - accuracy: 0.9798\n",
      "Epoch 70/200\n",
      "1200/1200 [==============================] - 6s 5ms/step - loss: 0.0598 - accuracy: 0.9801\n",
      "Epoch 71/200\n",
      "1200/1200 [==============================] - 6s 5ms/step - loss: 0.0605 - accuracy: 0.9802\n",
      "Epoch 72/200\n",
      "1200/1200 [==============================] - 6s 5ms/step - loss: 0.0603 - accuracy: 0.9793\n",
      "Epoch 73/200\n",
      "1200/1200 [==============================] - 6s 5ms/step - loss: 0.0605 - accuracy: 0.9804\n",
      "Epoch 74/200\n",
      "1200/1200 [==============================] - 6s 5ms/step - loss: 0.0566 - accuracy: 0.9810\n",
      "Epoch 75/200\n",
      "1200/1200 [==============================] - 6s 5ms/step - loss: 0.0575 - accuracy: 0.9809\n",
      "Epoch 76/200\n",
      "1200/1200 [==============================] - 6s 5ms/step - loss: 0.0537 - accuracy: 0.9834\n",
      "Epoch 77/200\n",
      "1200/1200 [==============================] - 6s 5ms/step - loss: 0.0506 - accuracy: 0.9842\n",
      "Epoch 78/200\n",
      "1200/1200 [==============================] - 6s 5ms/step - loss: 0.0521 - accuracy: 0.9832\n",
      "Epoch 79/200\n",
      "1200/1200 [==============================] - 6s 5ms/step - loss: 0.0514 - accuracy: 0.9828\n",
      "Epoch 80/200\n",
      "1200/1200 [==============================] - 6s 5ms/step - loss: 0.0509 - accuracy: 0.9829\n",
      "Epoch 81/200\n",
      "1200/1200 [==============================] - 6s 5ms/step - loss: 0.0481 - accuracy: 0.9851\n",
      "Epoch 82/200\n",
      "1200/1200 [==============================] - 6s 5ms/step - loss: 0.0465 - accuracy: 0.9856\n",
      "Epoch 83/200\n",
      "1200/1200 [==============================] - 6s 5ms/step - loss: 0.0502 - accuracy: 0.9845\n",
      "Epoch 84/200\n",
      "1200/1200 [==============================] - 6s 5ms/step - loss: 0.0485 - accuracy: 0.9841\n",
      "Epoch 85/200\n",
      "1200/1200 [==============================] - 6s 5ms/step - loss: 0.0451 - accuracy: 0.9853\n",
      "Epoch 86/200\n",
      "1200/1200 [==============================] - 6s 5ms/step - loss: 0.0435 - accuracy: 0.9859\n",
      "Epoch 87/200\n",
      "1200/1200 [==============================] - 6s 5ms/step - loss: 0.0447 - accuracy: 0.9854\n",
      "Epoch 88/200\n",
      "1200/1200 [==============================] - 6s 5ms/step - loss: 0.0398 - accuracy: 0.9881\n",
      "Epoch 89/200\n",
      "1200/1200 [==============================] - 6s 5ms/step - loss: 0.0416 - accuracy: 0.9863\n",
      "Epoch 90/200\n",
      "1200/1200 [==============================] - 6s 5ms/step - loss: 0.0395 - accuracy: 0.9875\n",
      "Epoch 91/200\n",
      "1200/1200 [==============================] - 6s 5ms/step - loss: 0.0397 - accuracy: 0.9869\n",
      "Epoch 92/200\n",
      "1200/1200 [==============================] - 6s 5ms/step - loss: 0.0376 - accuracy: 0.9886\n",
      "Epoch 93/200\n",
      "1200/1200 [==============================] - 6s 5ms/step - loss: 0.0397 - accuracy: 0.9875\n",
      "Epoch 94/200\n",
      "1200/1200 [==============================] - 6s 5ms/step - loss: 0.0382 - accuracy: 0.9885\n",
      "Epoch 95/200\n",
      "1200/1200 [==============================] - 6s 5ms/step - loss: 0.0366 - accuracy: 0.9882\n",
      "Epoch 96/200\n",
      "1200/1200 [==============================] - 6s 5ms/step - loss: 0.0352 - accuracy: 0.9895\n",
      "Epoch 97/200\n",
      "1200/1200 [==============================] - 6s 5ms/step - loss: 0.0329 - accuracy: 0.9897\n",
      "Epoch 98/200\n",
      "1200/1200 [==============================] - 6s 5ms/step - loss: 0.0328 - accuracy: 0.9901\n",
      "Epoch 99/200\n",
      "1200/1200 [==============================] - 6s 5ms/step - loss: 0.0328 - accuracy: 0.9900\n",
      "Epoch 100/200\n",
      "1200/1200 [==============================] - 6s 5ms/step - loss: 0.0360 - accuracy: 0.9890\n",
      "Epoch 101/200\n",
      "1200/1200 [==============================] - 6s 5ms/step - loss: 0.0340 - accuracy: 0.9891\n",
      "Epoch 102/200\n",
      "1200/1200 [==============================] - 6s 5ms/step - loss: 0.0307 - accuracy: 0.9909\n",
      "Epoch 103/200\n",
      "1200/1200 [==============================] - 6s 5ms/step - loss: 0.0364 - accuracy: 0.9884\n",
      "Epoch 104/200\n",
      "1200/1200 [==============================] - 6s 5ms/step - loss: 0.0317 - accuracy: 0.9902\n",
      "Epoch 105/200\n",
      "1200/1200 [==============================] - 6s 5ms/step - loss: 0.0296 - accuracy: 0.9911\n",
      "Epoch 106/200\n",
      "1200/1200 [==============================] - 6s 5ms/step - loss: 0.0306 - accuracy: 0.9903\n",
      "Epoch 107/200\n",
      "1200/1200 [==============================] - 6s 5ms/step - loss: 0.0294 - accuracy: 0.9909\n",
      "Epoch 108/200\n",
      "1200/1200 [==============================] - 6s 5ms/step - loss: 0.0306 - accuracy: 0.9908\n",
      "Epoch 109/200\n",
      "1200/1200 [==============================] - 6s 5ms/step - loss: 0.0275 - accuracy: 0.9914\n",
      "Epoch 110/200\n",
      "1200/1200 [==============================] - 6s 5ms/step - loss: 0.0271 - accuracy: 0.9913\n",
      "Epoch 111/200\n",
      "1200/1200 [==============================] - 6s 5ms/step - loss: 0.0288 - accuracy: 0.9914\n",
      "Epoch 112/200\n",
      "1200/1200 [==============================] - 6s 5ms/step - loss: 0.0275 - accuracy: 0.9914\n",
      "Epoch 113/200\n",
      "1200/1200 [==============================] - 6s 5ms/step - loss: 0.0243 - accuracy: 0.9934\n",
      "Epoch 114/200\n",
      "1200/1200 [==============================] - 6s 5ms/step - loss: 0.0250 - accuracy: 0.9927\n",
      "Epoch 115/200\n",
      "1200/1200 [==============================] - 6s 5ms/step - loss: 0.0310 - accuracy: 0.9901\n",
      "Epoch 116/200\n",
      "1200/1200 [==============================] - 6s 5ms/step - loss: 0.0220 - accuracy: 0.9940\n",
      "Epoch 117/200\n",
      "1200/1200 [==============================] - 6s 5ms/step - loss: 0.0246 - accuracy: 0.9926\n",
      "Epoch 118/200\n",
      "1200/1200 [==============================] - 6s 5ms/step - loss: 0.0252 - accuracy: 0.9921\n",
      "Epoch 119/200\n",
      "1200/1200 [==============================] - 6s 5ms/step - loss: 0.0199 - accuracy: 0.9949\n",
      "Epoch 120/200\n",
      "1200/1200 [==============================] - 6s 5ms/step - loss: 0.0203 - accuracy: 0.9942\n",
      "Epoch 121/200\n",
      "1200/1200 [==============================] - 6s 5ms/step - loss: 0.0267 - accuracy: 0.9912\n",
      "Epoch 122/200\n",
      "1200/1200 [==============================] - 6s 5ms/step - loss: 0.0253 - accuracy: 0.9914\n",
      "Epoch 123/200\n",
      "1200/1200 [==============================] - 6s 5ms/step - loss: 0.0215 - accuracy: 0.9940\n",
      "Epoch 124/200\n",
      "1200/1200 [==============================] - 6s 5ms/step - loss: 0.0237 - accuracy: 0.9931\n",
      "Epoch 125/200\n",
      "1200/1200 [==============================] - 6s 5ms/step - loss: 0.0228 - accuracy: 0.9923\n",
      "Epoch 126/200\n",
      "1200/1200 [==============================] - 6s 5ms/step - loss: 0.0207 - accuracy: 0.9939\n",
      "Epoch 127/200\n",
      "1200/1200 [==============================] - 6s 5ms/step - loss: 0.0209 - accuracy: 0.9935\n",
      "Epoch 128/200\n",
      "1200/1200 [==============================] - 6s 5ms/step - loss: 0.0183 - accuracy: 0.9952\n",
      "Epoch 129/200\n",
      "1200/1200 [==============================] - 6s 5ms/step - loss: 0.0225 - accuracy: 0.9926\n",
      "Epoch 130/200\n",
      "1200/1200 [==============================] - 6s 5ms/step - loss: 0.0211 - accuracy: 0.9933\n",
      "Epoch 131/200\n",
      "1200/1200 [==============================] - 6s 5ms/step - loss: 0.0250 - accuracy: 0.9917\n",
      "Epoch 132/200\n",
      "1200/1200 [==============================] - 6s 5ms/step - loss: 0.0178 - accuracy: 0.9949\n",
      "Epoch 133/200\n",
      "1200/1200 [==============================] - 6s 5ms/step - loss: 0.0179 - accuracy: 0.9947\n",
      "Epoch 134/200\n",
      "1200/1200 [==============================] - 6s 5ms/step - loss: 0.0190 - accuracy: 0.9945\n",
      "Epoch 135/200\n",
      "1200/1200 [==============================] - 6s 5ms/step - loss: 0.0157 - accuracy: 0.9955\n",
      "Epoch 136/200\n",
      "1200/1200 [==============================] - 6s 5ms/step - loss: 0.0175 - accuracy: 0.9950\n",
      "Epoch 137/200\n",
      "1200/1200 [==============================] - 7s 5ms/step - loss: 0.0190 - accuracy: 0.9946\n",
      "Epoch 138/200\n",
      "1200/1200 [==============================] - 6s 5ms/step - loss: 0.0194 - accuracy: 0.9942\n",
      "Epoch 139/200\n",
      "1200/1200 [==============================] - 6s 5ms/step - loss: 0.0181 - accuracy: 0.9946\n",
      "Epoch 140/200\n",
      "1200/1200 [==============================] - 6s 5ms/step - loss: 0.0152 - accuracy: 0.9959\n",
      "Epoch 141/200\n",
      "1200/1200 [==============================] - 6s 5ms/step - loss: 0.0209 - accuracy: 0.9934\n",
      "Epoch 142/200\n",
      "1200/1200 [==============================] - 6s 5ms/step - loss: 0.0167 - accuracy: 0.9953\n",
      "Epoch 143/200\n",
      "1200/1200 [==============================] - 6s 5ms/step - loss: 0.0167 - accuracy: 0.9955\n",
      "Epoch 144/200\n",
      "1200/1200 [==============================] - 6s 5ms/step - loss: 0.0181 - accuracy: 0.9944\n",
      "Epoch 145/200\n",
      "1200/1200 [==============================] - 6s 5ms/step - loss: 0.0164 - accuracy: 0.9956\n",
      "Epoch 146/200\n",
      "1200/1200 [==============================] - 6s 5ms/step - loss: 0.0156 - accuracy: 0.9954\n",
      "Epoch 147/200\n",
      "1200/1200 [==============================] - 6s 5ms/step - loss: 0.0141 - accuracy: 0.9961\n",
      "Epoch 148/200\n",
      "1200/1200 [==============================] - 6s 5ms/step - loss: 0.0134 - accuracy: 0.9968\n",
      "Epoch 149/200\n",
      "1200/1200 [==============================] - 6s 5ms/step - loss: 0.0191 - accuracy: 0.9944\n",
      "Epoch 150/200\n",
      "1200/1200 [==============================] - 6s 5ms/step - loss: 0.0143 - accuracy: 0.9960\n",
      "Epoch 151/200\n",
      "1200/1200 [==============================] - 6s 5ms/step - loss: 0.0110 - accuracy: 0.9973\n",
      "Epoch 152/200\n",
      "1200/1200 [==============================] - 6s 5ms/step - loss: 0.0149 - accuracy: 0.9955\n",
      "Epoch 153/200\n",
      "1200/1200 [==============================] - 6s 5ms/step - loss: 0.0166 - accuracy: 0.9947\n",
      "Epoch 154/200\n",
      "1200/1200 [==============================] - 6s 5ms/step - loss: 0.0136 - accuracy: 0.9962\n",
      "Epoch 155/200\n",
      "1200/1200 [==============================] - 6s 5ms/step - loss: 0.0103 - accuracy: 0.9974\n",
      "Epoch 156/200\n",
      "1200/1200 [==============================] - 6s 5ms/step - loss: 0.0141 - accuracy: 0.9961\n",
      "Epoch 157/200\n",
      "1200/1200 [==============================] - 6s 5ms/step - loss: 0.0224 - accuracy: 0.9923\n",
      "Epoch 158/200\n",
      "1200/1200 [==============================] - 6s 5ms/step - loss: 0.0179 - accuracy: 0.9940\n",
      "Epoch 159/200\n",
      "1200/1200 [==============================] - 6s 5ms/step - loss: 0.0155 - accuracy: 0.9954\n",
      "Epoch 160/200\n",
      "1200/1200 [==============================] - 6s 5ms/step - loss: 0.0107 - accuracy: 0.9973\n",
      "Epoch 161/200\n",
      "1200/1200 [==============================] - 6s 5ms/step - loss: 0.0153 - accuracy: 0.9952\n",
      "Epoch 162/200\n",
      "1200/1200 [==============================] - 6s 5ms/step - loss: 0.0125 - accuracy: 0.9964\n",
      "Epoch 163/200\n",
      "1200/1200 [==============================] - 6s 5ms/step - loss: 0.0081 - accuracy: 0.9985\n",
      "Epoch 164/200\n",
      "1200/1200 [==============================] - 6s 5ms/step - loss: 0.0131 - accuracy: 0.9962\n",
      "Epoch 165/200\n",
      "1200/1200 [==============================] - 6s 5ms/step - loss: 0.0155 - accuracy: 0.9954\n",
      "Epoch 166/200\n",
      "1200/1200 [==============================] - 6s 5ms/step - loss: 0.0094 - accuracy: 0.9978\n",
      "Epoch 167/200\n",
      "1200/1200 [==============================] - 6s 5ms/step - loss: 0.0150 - accuracy: 0.9953\n",
      "Epoch 168/200\n",
      "1200/1200 [==============================] - 6s 5ms/step - loss: 0.0110 - accuracy: 0.9969\n",
      "Epoch 169/200\n",
      "1200/1200 [==============================] - 6s 5ms/step - loss: 0.0198 - accuracy: 0.9930\n",
      "Epoch 170/200\n",
      "1200/1200 [==============================] - 6s 5ms/step - loss: 0.0171 - accuracy: 0.9946\n",
      "Epoch 171/200\n",
      "1200/1200 [==============================] - 6s 5ms/step - loss: 0.0109 - accuracy: 0.9971\n",
      "Epoch 172/200\n",
      "1200/1200 [==============================] - 6s 5ms/step - loss: 0.0118 - accuracy: 0.9965\n",
      "Epoch 173/200\n",
      "1200/1200 [==============================] - 6s 5ms/step - loss: 0.0103 - accuracy: 0.9974\n",
      "Epoch 174/200\n",
      "1200/1200 [==============================] - 6s 5ms/step - loss: 0.0101 - accuracy: 0.9973\n",
      "Epoch 175/200\n",
      "1200/1200 [==============================] - 6s 5ms/step - loss: 0.0134 - accuracy: 0.9960\n",
      "Epoch 176/200\n",
      "1200/1200 [==============================] - 6s 5ms/step - loss: 0.0157 - accuracy: 0.9945\n",
      "Epoch 177/200\n",
      "1200/1200 [==============================] - 6s 5ms/step - loss: 0.0131 - accuracy: 0.9961\n",
      "Epoch 178/200\n",
      "1200/1200 [==============================] - 6s 5ms/step - loss: 0.0155 - accuracy: 0.9950\n",
      "Epoch 179/200\n",
      "1200/1200 [==============================] - 6s 5ms/step - loss: 0.0134 - accuracy: 0.9964\n",
      "Epoch 180/200\n",
      "1200/1200 [==============================] - 6s 5ms/step - loss: 0.0067 - accuracy: 0.9985\n",
      "Epoch 181/200\n",
      "1200/1200 [==============================] - 6s 5ms/step - loss: 0.0156 - accuracy: 0.9950\n",
      "Epoch 182/200\n",
      "1200/1200 [==============================] - 6s 5ms/step - loss: 0.0170 - accuracy: 0.9942\n",
      "Epoch 183/200\n",
      "1200/1200 [==============================] - 6s 5ms/step - loss: 0.0103 - accuracy: 0.9971\n",
      "Epoch 184/200\n",
      "1200/1200 [==============================] - 6s 5ms/step - loss: 0.0054 - accuracy: 0.9989\n",
      "Epoch 185/200\n",
      "1200/1200 [==============================] - 6s 5ms/step - loss: 0.0141 - accuracy: 0.9954\n",
      "Epoch 186/200\n",
      "1200/1200 [==============================] - 6s 5ms/step - loss: 0.0119 - accuracy: 0.9964\n",
      "Epoch 187/200\n",
      "1200/1200 [==============================] - 6s 5ms/step - loss: 0.0107 - accuracy: 0.9969\n",
      "Epoch 188/200\n",
      "1200/1200 [==============================] - 6s 5ms/step - loss: 0.0100 - accuracy: 0.9975\n",
      "Epoch 189/200\n",
      "1200/1200 [==============================] - 6s 5ms/step - loss: 0.0078 - accuracy: 0.9981\n",
      "Epoch 190/200\n",
      "1200/1200 [==============================] - 6s 5ms/step - loss: 0.0051 - accuracy: 0.9992\n",
      "Epoch 191/200\n",
      "1200/1200 [==============================] - 6s 5ms/step - loss: 0.0067 - accuracy: 0.9985\n",
      "Epoch 192/200\n",
      "1200/1200 [==============================] - 6s 5ms/step - loss: 0.0159 - accuracy: 0.9951\n",
      "Epoch 193/200\n",
      "1200/1200 [==============================] - 6s 5ms/step - loss: 0.0091 - accuracy: 0.9976\n",
      "Epoch 194/200\n",
      "1200/1200 [==============================] - 6s 5ms/step - loss: 0.0078 - accuracy: 0.9978\n",
      "Epoch 195/200\n",
      "1200/1200 [==============================] - 6s 5ms/step - loss: 0.0084 - accuracy: 0.9975\n",
      "Epoch 196/200\n",
      "1200/1200 [==============================] - 6s 5ms/step - loss: 0.0205 - accuracy: 0.9935\n",
      "Epoch 197/200\n",
      "1200/1200 [==============================] - 6s 5ms/step - loss: 0.0100 - accuracy: 0.9975\n",
      "Epoch 198/200\n",
      "1200/1200 [==============================] - 5s 4ms/step - loss: 0.0077 - accuracy: 0.9983\n",
      "Epoch 199/200\n",
      "1200/1200 [==============================] - 4s 3ms/step - loss: 0.0254 - accuracy: 0.9916\n",
      "Epoch 200/200\n",
      "1200/1200 [==============================] - 4s 3ms/step - loss: 0.0231 - accuracy: 0.9919\n"
     ]
    }
   ],
   "source": [
    "\n",
    "hist =model.fit(train_ds, epochs=200,steps_per_epoch=math.ceil(60000/bs))"
   ]
  },
  {
   "cell_type": "code",
   "execution_count": 23,
   "id": "c3d85c1d",
   "metadata": {},
   "outputs": [
    {
     "name": "stdout",
     "output_type": "stream",
     "text": [
      "200/200 [==============================] - 2s 8ms/step - loss: 0.7822 - accuracy: 0.8849\n",
      "Accuracy on test dataset: 0.8848999738693237\n"
     ]
    }
   ],
   "source": [
    "test_loss, test_accuracy = model.evaluate(test_ds, steps=math.ceil(10000/bs))\n",
    "print('Accuracy on test dataset:', test_accuracy)"
   ]
  },
  {
   "cell_type": "code",
   "execution_count": 25,
   "id": "afa55a6b",
   "metadata": {},
   "outputs": [],
   "source": [
    "y_pred = model.predict(test_ds)\n",
    "\n",
    "predicted_categories = tf.argmax(y_pred, axis=1)\n",
    "\n",
    "true_categories = tf.concat([y for x, y in test_ds], axis=0)\n",
    "\n",
    "cm=confusion_matrix(predicted_categories, true_categories)\n"
   ]
  },
  {
   "cell_type": "code",
   "execution_count": 38,
   "id": "a4f4100b",
   "metadata": {},
   "outputs": [],
   "source": [
    "def plot_confusion_matrix(cm, classes,\n",
    "                        normalize=False,\n",
    "                        title='Confusion matrix',\n",
    "                        cmap=plt.cm.Blues):\n",
    "   \n",
    "    plt.imshow(cm, interpolation='nearest', cmap=cmap)\n",
    "    plt.title(title)\n",
    "    plt.colorbar()\n",
    "    tick_marks = np.arange(len(classes))\n",
    "    plt.xticks(tick_marks, classes, rotation=45)\n",
    "    plt.yticks(tick_marks, classes)\n",
    "\n",
    "    if normalize:\n",
    "        cm = cm.astype('float') / cm.sum(axis=1)[:, np.newaxis]\n",
    "        print(\"Normalized confusion matrix\")\n",
    "    else:\n",
    "        print('Confusion matrix, without normalization')\n",
    "\n",
    "    print(cm)\n",
    "\n",
    "    thresh = cm.max() / 2.\n",
    "    for i, j in itertools.product(range(cm.shape[0]), range(cm.shape[1])):\n",
    "        plt.text(j, i, cm[i, j],\n",
    "            horizontalalignment=\"center\",\n",
    "            color=\"white\" if cm[i, j] > thresh else \"black\")\n",
    "\n",
    "    plt.tight_layout()\n",
    "    plt.ylabel('True label')\n",
    "    plt.xlabel('Predicted label')\n",
    "    "
   ]
  },
  {
   "cell_type": "code",
   "execution_count": 39,
   "id": "3119b236",
   "metadata": {},
   "outputs": [],
   "source": [
    "cm_plot_labels = ['no_side_effects','had_side_effects']"
   ]
  },
  {
   "cell_type": "code",
   "execution_count": 40,
   "id": "77887a70",
   "metadata": {},
   "outputs": [
    {
     "name": "stdout",
     "output_type": "stream",
     "text": [
      "Confusion matrix, without normalization\n",
      "[[841   6  22  29   2   2 137   0   4   0]\n",
      " [  1 972   0  12   0   0   2   0   0   0]\n",
      " [ 21   1 819   9  93   1  78   0   6   0]\n",
      " [ 24  11  10 892  34   2  23   0   3   0]\n",
      " [  5   4  76  31 809   0  64   0   7   0]\n",
      " [  2   0   0   0   0 955   0  17   2  11]\n",
      " [ 99   5  70  21  60   0 689   0   7   1]\n",
      " [  0   0   0   0   0  17   0 959   5  40]\n",
      " [  7   1   3   6   2   5   7   0 965   0]\n",
      " [  0   0   0   0   0  18   0  24   1 948]]\n"
     ]
    },
    {
     "data": {
      "image/png": "[encoded data removed]",
      "text/plain": [
       "<Figure size 432x288 with 2 Axes>"
      ]
     },
     "metadata": {
      "needs_background": "light"
     },
     "output_type": "display_data"
    }
   ],
   "source": [
    "plot_confusion_matrix(cm=cm, classes=cm_plot_labels, title='Confusion Matrix')"
   ]
  },
  {
   "cell_type": "code",
   "execution_count": 41,
   "id": "a17d2778",
   "metadata": {},
   "outputs": [
    {
     "data": {
      "image/png": "[encoded data removed]",
      "text/plain": [
       "<Figure size 432x288 with 1 Axes>"
      ]
     },
     "metadata": {
      "needs_background": "light"
     },
     "output_type": "display_data"
    }
   ],
   "source": [
    "import matplotlib.pyplot as plt\n",
    "plt.xlabel('Epoch Number')\n",
    "plt.plot(hist.history['loss']);\n",
    "plt.plot(hist.history['accuracy']);"
   ]
  },
  {
   "cell_type": "code",
   "execution_count": 42,
   "id": "789b2e32",
   "metadata": {},
   "outputs": [
    {
     "data": {
      "image/png": "[encoded data removed]",
      "text/plain": [
       "<Figure size 432x288 with 1 Axes>"
      ]
     },
     "metadata": {
      "needs_background": "light"
     },
     "output_type": "display_data"
    }
   ],
   "source": [
    "import matplotlib.pyplot as plt\n",
    "plt.xlabel('Epoch Number')\n",
    "plt.ylabel(\"Loss Magnitude\")\n",
    "plt.plot(hist.history['accuracy']);"
   ]
  },
  {
   "cell_type": "code",
   "execution_count": 43,
   "id": "22c628ef",
   "metadata": {},
   "outputs": [
    {
     "name": "stdout",
     "output_type": "stream",
     "text": [
      "INFO:tensorflow:Assets written to: /tmp/tmptm8h36a3/assets\n"
     ]
    },
    {
     "name": "stderr",
     "output_type": "stream",
     "text": [
      "INFO:tensorflow:Assets written to: /tmp/tmptm8h36a3/assets\n"
     ]
    }
   ],
   "source": [
    "converter = tf.lite.TFLiteConverter.from_keras_model(model)\n",
    "tflite_model = converter.convert()"
   ]
  },
  {
   "cell_type": "code",
   "execution_count": 44,
   "id": "cf18f1fe",
   "metadata": {},
   "outputs": [
    {
     "data": {
      "text/plain": [
       "408668"
      ]
     },
     "execution_count": 44,
     "metadata": {},
     "output_type": "execute_result"
    }
   ],
   "source": [
    "tflite_model_file = \"mnist_model.tflite\"\n",
    "open(tflite_model_file, 'wb').write(tflite_model)"
   ]
  },
  {
   "cell_type": "code",
   "execution_count": null,
   "id": "805ac863",
   "metadata": {},
   "outputs": [],
   "source": []
  }
 ],
 "metadata": {
  "kernelspec": {
   "display_name": "Python 3",
   "language": "python",
   "name": "python3"
  },
  "language_info": {
   "codemirror_mode": {
    "name": "ipython",
    "version": 3
   },
   "file_extension": ".py",
   "mimetype": "text/x-python",
   "name": "python",
   "nbconvert_exporter": "python",
   "pygments_lexer": "ipython3",
   "version": "3.8.8"
  }
 },
 "nbformat": 4,
 "nbformat_minor": 5
}
