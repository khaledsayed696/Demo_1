{
 "cells": [
  {
   "cell_type": "code",
   "execution_count": null,
   "id": "21765d68",
   "metadata": {},
   "outputs": [],
   "source": [
    "..................................... threshed lab......................................."
   ]
  },
  {
   "cell_type": "code",
   "execution_count": null,
   "id": "4524ac2a",
   "metadata": {},
   "outputs": [],
   "source": [
    "import numpy as np\n",
    "import cv2\n",
    "cap = cv2.VideoCapture('FIles/Lanes.mp4')\n",
    "# cap = cv2.VideoCapture(0) # For reading from camera\n",
    "while (True):\n",
    "    ret, frame = cap.read()\n",
    "    retval,threshed = cv2.threshold(frame,200,255,cv2.THRESH_BINARY)\n",
    "    newFrame = np.array(threshed)\n",
    "    gray = cv2.cvtColor(newFrame, cv2.COLOR_BGR2GRAY)\n",
    "    cv2.imshow('newFrame',gray)\n",
    "\n",
    "\n",
    "    k = cv2.waitKey(1)\n",
    "    if k == ord('q'):\n",
    "        break    \n",
    "    \n",
    "        \n",
    "cv2.destroyAllWindows()"
   ]
  },
  {
   "cell_type": "code",
   "execution_count": null,
   "id": "8850286e",
   "metadata": {},
   "outputs": [],
   "source": [
    ".................... Output must be a video of binary frames...................\n"
   ]
  },
  {
   "cell_type": "code",
   "execution_count": null,
   "id": "2aa3d587",
   "metadata": {},
   "outputs": [],
   "source": [
    "import numpy as np\n",
    "import cv2\n",
    "cap = cv2.VideoCapture('FIles/Lanes.mp4')\n",
    "frame_width = int(cap.get(3))\n",
    "frame_height = int(cap.get(4))\n",
    "out = cv2.VideoWriter('FIles/Lanes.mp4',cv2.VideoWriter_fourcc('M','J','P','G'), 20, (frame_width,frame_height))\n",
    "\n",
    "while (True):\n",
    "    ret, frame = cap.read()\n",
    "    retval,threshed = cv2.threshold(frame,200,255,cv2.THRESH_BINARY)\n",
    "    newFrame = np.array(threshed)\n",
    "    gray = cv2.cvtColor(newFrame, cv2.COLOR_BGR2GRAY)\n",
    "    out.write(gray)\n",
    "\n",
    "    cv2.imshow('newFrame',gray)\n",
    "\n",
    "\n",
    "    k = cv2.waitKey(1)\n",
    "    if k == ord('q'):\n",
    "        break    \n",
    "    \n",
    "        \n",
    "cv2.destroyAllWindows()"
   ]
  },
  {
   "cell_type": "code",
   "execution_count": null,
   "id": "1a274c22",
   "metadata": {},
   "outputs": [],
   "source": [
    "....................................lab finish......................................."
   ]
  },
  {
   "cell_type": "code",
   "execution_count": null,
   "id": "bdcf673e",
   "metadata": {},
   "outputs": [],
   "source": []
  },
  {
   "cell_type": "code",
   "execution_count": null,
   "id": "4747f95d",
   "metadata": {},
   "outputs": [],
   "source": []
  },
  {
   "cell_type": "code",
   "execution_count": null,
   "id": "479e7fd2",
   "metadata": {},
   "outputs": [],
   "source": []
  },
  {
   "cell_type": "code",
   "execution_count": null,
   "id": "8c847333",
   "metadata": {},
   "outputs": [],
   "source": []
  },
  {
   "cell_type": "code",
   "execution_count": 4,
   "id": "e97d0641",
   "metadata": {},
   "outputs": [],
   "source": [
    "import numpy as np\n",
    "import cv2 as cv\n",
    "import cv2\n",
    "\n",
    "def draw_circle(event,x,y,flags,param):\n",
    "    if event == cv.EVENT_LBUTTONDOWN:\n",
    "        cv2.rectangle(img, pt1=(x+5,y+5), pt2=(x,y), color=(0,255,0), thickness=-1)\n",
    "\n",
    "    if event == cv.EVENT_LBUTTONUP:\n",
    "        cv2.rectangle(img, pt1=(x+10,y+5), pt2=(x,y), color=(0,0,255), thickness=-1)\n",
    "    \n",
    "    if event == cv.EVENT_RBUTTONDOWN:\n",
    "        cv.circle(img,(x,y),10,(250,0,0),-1)\n",
    "    if event == cv.EVENT_RBUTTONUP:\n",
    "        center_coordinates = (x, y)\n",
    "        axesLength = (30, 10)\n",
    "        angle = 5\n",
    "        startAngle = 0\n",
    "        endAngle = 255\n",
    "        color = (255, 0, 0)\n",
    "        thickness = 0\n",
    "        cv2.ellipse(img, center_coordinates, axesLength, angle,\n",
    "                          startAngle, endAngle, color, thickness)\n",
    "        \n",
    "    if event == cv.EVENT_MBUTTONDOWN :\n",
    "        font = cv2.FONT_HERSHEY_SIMPLEX\n",
    "        cv2.putText(img,'khaled', (x + 30, y + 30), font, 1, (200, 255, 155), 1, cv2.LINE_AA)\n",
    "        \n",
    "# Create a black image, a window and bind the function to window\n",
    "img = np.zeros((512,512,3), np.uint8)\n",
    "cv.namedWindow('image')\n",
    "cv.setMouseCallback('image',draw_circle)\n",
    "while(1):\n",
    "    cv.imshow('image',img)\n",
    "    if cv.waitKey(20) & 0xFF == 27:\n",
    "        break\n",
    "cv.destroyAllWindows()"
   ]
  },
  {
   "cell_type": "code",
   "execution_count": null,
   "id": "4ae794a1",
   "metadata": {},
   "outputs": [],
   "source": []
  },
  {
   "cell_type": "code",
   "execution_count": 5,
   "id": "b2626588",
   "metadata": {},
   "outputs": [],
   "source": [
    "import numpy as np\n",
    "import cv2 as cv\n",
    "import cv2\n",
    "\n",
    "def draw_circle(event,x,y,flags,param):\n",
    "    if event == cv.EVENT_LBUTTONDOWN:\n",
    "        cv2.rectangle(img, pt1=(x+5,y+5), pt2=(x,y), color=(0,255,0), thickness=-1)\n",
    "\n",
    "    if event == cv.EVENT_LBUTTONUP:\n",
    "        cv2.rectangle(img, pt1=(x+10,y+5), pt2=(x,y), color=(0,0,255), thickness=-1)\n",
    "    \n",
    "    if event == cv.EVENT_RBUTTONDOWN:\n",
    "        cv.circle(img,(x,y),10,(250,0,0),-1)\n",
    "    if event == cv.EVENT_RBUTTONUP:\n",
    "        center_coordinates = (x, y)\n",
    "        axesLength = (30, 10)\n",
    "        angle = 5\n",
    "        startAngle = 0\n",
    "        endAngle = 255\n",
    "        color = (255, 0, 0)\n",
    "        thickness = 0\n",
    "        cv2.ellipse(img, center_coordinates, axesLength, angle,\n",
    "                          startAngle, endAngle, color, thickness)\n",
    "        \n",
    "    if event == cv.EVENT_MBUTTONDOWN :\n",
    "        font = cv2.FONT_HERSHEY_SIMPLEX\n",
    "        cv2.putText(img,'khaled', (x + 30, y + 30), font, 1, (200, 255, 155), 1, cv2.LINE_AA)\n",
    "        \n",
    "# Create a black image, a window and bind the function to window\n",
    "img = np.zeros((512,512,3), np.uint8)\n",
    "cv.namedWindow('image')\n",
    "cv.setMouseCallback('image',draw_circle)\n",
    "while(1):\n",
    "    cv.imshow('image',img)\n",
    "    if cv.waitKey(20) & 0xFF == 27:\n",
    "        break\n",
    "cv.destroyAllWindows()"
   ]
  },
  {
   "cell_type": "code",
   "execution_count": null,
   "id": "ad5c356a",
   "metadata": {},
   "outputs": [],
   "source": []
  },
  {
   "cell_type": "code",
   "execution_count": 22,
   "id": "7c382d18",
   "metadata": {},
   "outputs": [
    {
     "ename": "error",
     "evalue": "OpenCV(4.5.1) /tmp/pip-req-build-jr1ur_cf/opencv/modules/highgui/src/window.cpp:376: error: (-215:Assertion failed) size.width>0 && size.height>0 in function 'imshow'\n",
     "output_type": "error",
     "traceback": [
      "\u001b[0;31m---------------------------------------------------------------------------\u001b[0m",
      "\u001b[0;31merror\u001b[0m                                     Traceback (most recent call last)",
      "\u001b[0;32m<ipython-input-22-530b9c3293a0>\u001b[0m in \u001b[0;36m<module>\u001b[0;34m\u001b[0m\n\u001b[1;32m      4\u001b[0m \u001b[0;32mwhile\u001b[0m \u001b[0;34m(\u001b[0m\u001b[0;32mTrue\u001b[0m\u001b[0;34m)\u001b[0m\u001b[0;34m:\u001b[0m\u001b[0;34m\u001b[0m\u001b[0;34m\u001b[0m\u001b[0m\n\u001b[1;32m      5\u001b[0m     \u001b[0mret\u001b[0m\u001b[0;34m,\u001b[0m \u001b[0mframe\u001b[0m \u001b[0;34m=\u001b[0m \u001b[0mcap\u001b[0m\u001b[0;34m.\u001b[0m\u001b[0mread\u001b[0m\u001b[0;34m(\u001b[0m\u001b[0;34m)\u001b[0m\u001b[0;34m\u001b[0m\u001b[0;34m\u001b[0m\u001b[0m\n\u001b[0;32m----> 6\u001b[0;31m     \u001b[0mcv2\u001b[0m\u001b[0;34m.\u001b[0m\u001b[0mimshow\u001b[0m\u001b[0;34m(\u001b[0m\u001b[0;34m'Frame'\u001b[0m\u001b[0;34m,\u001b[0m \u001b[0mframe\u001b[0m\u001b[0;34m)\u001b[0m\u001b[0;34m\u001b[0m\u001b[0;34m\u001b[0m\u001b[0m\n\u001b[0m\u001b[1;32m      7\u001b[0m     \u001b[0mk\u001b[0m \u001b[0;34m=\u001b[0m \u001b[0mcv2\u001b[0m\u001b[0;34m.\u001b[0m\u001b[0mwaitKey\u001b[0m\u001b[0;34m(\u001b[0m\u001b[0;36m1\u001b[0m\u001b[0;34m)\u001b[0m\u001b[0;34m\u001b[0m\u001b[0;34m\u001b[0m\u001b[0m\n\u001b[1;32m      8\u001b[0m     \u001b[0;32mif\u001b[0m \u001b[0mk\u001b[0m \u001b[0;34m==\u001b[0m \u001b[0mord\u001b[0m\u001b[0;34m(\u001b[0m\u001b[0;34m'q'\u001b[0m\u001b[0;34m)\u001b[0m\u001b[0;34m:\u001b[0m\u001b[0;34m\u001b[0m\u001b[0;34m\u001b[0m\u001b[0m\n",
      "\u001b[0;31merror\u001b[0m: OpenCV(4.5.1) /tmp/pip-req-build-jr1ur_cf/opencv/modules/highgui/src/window.cpp:376: error: (-215:Assertion failed) size.width>0 && size.height>0 in function 'imshow'\n"
     ]
    }
   ],
   "source": [
    "import cv2\n",
    "cap = cv2.VideoCapture('Files/11_output.avi')\n",
    "# cap = cv2.VideoCapture(0) # For reading from camera\n",
    "while (True):\n",
    "    ret, frame = cap.read()\n",
    "    cv2.imshow('Frame', frame)\n",
    "    k = cv2.waitKey(1)\n",
    "    if k == ord('q'):\n",
    "        break    \n",
    "    \n",
    "        \n",
    "vid.release()\n",
    "cv2.destroyAllWindows()"
   ]
  },
  {
   "cell_type": "code",
   "execution_count": 15,
   "id": "db62dcd4",
   "metadata": {},
   "outputs": [],
   "source": [
    "cap = cv2.VideoCapture('Files/11_output.avi')\n"
   ]
  },
  {
   "cell_type": "code",
   "execution_count": 17,
   "id": "89b81667",
   "metadata": {},
   "outputs": [
    {
     "name": "stdout",
     "output_type": "stream",
     "text": [
      "<VideoCapture 0x7f966be9d870>\n"
     ]
    }
   ],
   "source": [
    "print(cap)"
   ]
  },
  {
   "cell_type": "code",
   "execution_count": null,
   "id": "269650a8",
   "metadata": {},
   "outputs": [],
   "source": []
  }
 ],
 "metadata": {
  "kernelspec": {
   "display_name": "Python 3",
   "language": "python",
   "name": "python3"
  },
  "language_info": {
   "codemirror_mode": {
    "name": "ipython",
    "version": 3
   },
   "file_extension": ".py",
   "mimetype": "text/x-python",
   "name": "python",
   "nbconvert_exporter": "python",
   "pygments_lexer": "ipython3",
   "version": "3.8.8"
  }
 },
 "nbformat": 4,
 "nbformat_minor": 5
}
