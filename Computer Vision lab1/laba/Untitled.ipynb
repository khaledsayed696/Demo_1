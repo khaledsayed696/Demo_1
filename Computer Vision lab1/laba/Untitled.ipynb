{
 "cells": [
  {
   "cell_type": "code",
   "execution_count": 3,
   "id": "280a2a98",
   "metadata": {},
   "outputs": [],
   "source": [
    "import numpy as np\n",
    "import cv2 as cv\n",
    "import cv2\n",
    "\n",
    "def draw_circle(event,x,y,flags,param):\n",
    "    if event == cv.EVENT_LBUTTONDOWN:\n",
    "        cv2.rectangle(img, pt1=(x+5,y+5), pt2=(x,y), color=(0,255,0), thickness=-1)\n",
    "\n",
    "    if event == cv.EVENT_LBUTTONUP:\n",
    "        cv2.rectangle(img, pt1=(x+10,y+5), pt2=(x,y), color=(0,0,255), thickness=-1)\n",
    "    \n",
    "    if event == cv.EVENT_RBUTTONDOWN:\n",
    "        cv.circle(img,(x,y),10,(250,0,0),-1)\n",
    "    if event == cv.EVENT_RBUTTONUP:\n",
    "        center_coordinates = (x, y)\n",
    "        axesLength = (30, 10)\n",
    "        angle = 5\n",
    "        startAngle = 0\n",
    "        endAngle = 255\n",
    "        color = (255, 0, 0)\n",
    "        thickness = 0\n",
    "        cv2.ellipse(img, center_coordinates, axesLength, angle,\n",
    "                          startAngle, endAngle, color, thickness)\n",
    "        \n",
    "    if event == cv.EVENT_MBUTTONDOWN :\n",
    "        font = cv2.FONT_HERSHEY_SIMPLEX\n",
    "        cv2.putText(img,'khaled', (x + 30, y + 30), font, 1, (200, 255, 155), 1, cv2.LINE_AA)\n",
    "        \n",
    "# Create a black image, a window and bind the function to window\n",
    "img = np.zeros((512,512,3), np.uint8)\n",
    "cv.namedWindow('image')\n",
    "cv.setMouseCallback('image',draw_circle)\n",
    "while(1):\n",
    "    cv.imshow('image',img)\n",
    "    if cv.waitKey(20) & 0xFF == 27:\n",
    "        break\n",
    "cv.destroyAllWindows()"
   ]
  },
  {
   "cell_type": "code",
   "execution_count": null,
   "id": "af62c932",
   "metadata": {},
   "outputs": [],
   "source": []
  }
 ],
 "metadata": {
  "kernelspec": {
   "display_name": "Python 3",
   "language": "python",
   "name": "python3"
  },
  "language_info": {
   "codemirror_mode": {
    "name": "ipython",
    "version": 3
   },
   "file_extension": ".py",
   "mimetype": "text/x-python",
   "name": "python",
   "nbconvert_exporter": "python",
   "pygments_lexer": "ipython3",
   "version": "3.8.8"
  }
 },
 "nbformat": 4,
 "nbformat_minor": 5
}
